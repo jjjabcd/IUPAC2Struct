{
 "cells": [
  {
   "cell_type": "code",
   "execution_count": 1,
   "id": "273d228a",
   "metadata": {},
   "outputs": [],
   "source": [
    "import os\n",
    "import torch\n",
    "import pandas as pd\n",
    "from tqdm import tqdm"
   ]
  },
  {
   "cell_type": "code",
   "execution_count": 2,
   "id": "7ef2cab8",
   "metadata": {},
   "outputs": [],
   "source": [
    "os.environ['KMP_DUPLICATE_LIB_OK']='True'"
   ]
  },
  {
   "cell_type": "code",
   "execution_count": 3,
   "metadata": {},
   "outputs": [],
   "source": [
    "data_file = 'data/test_100000.csv'\n",
    "data = pd.read_csv(data_file, sep=\",\")"
   ]
  },
  {
   "cell_type": "code",
   "execution_count": 4,
   "id": "89269f37",
   "metadata": {},
   "outputs": [],
   "source": [
    "device = torch.device('cuda:0' if torch.cuda.is_available() else 'cpu')"
   ]
  },
  {
   "cell_type": "code",
   "execution_count": 5,
   "id": "eeb9c703",
   "metadata": {},
   "outputs": [
    {
     "name": "stderr",
     "output_type": "stream",
     "text": [
      "/home/rlawlsgurjh/hdd/miniconda3/envs/iupac-gen/lib/python3.12/site-packages/torch/serialization.py:1639: SourceChangeWarning: source code of class 'torch.nn.parallel.data_parallel.DataParallel' has changed. you can retrieve the original source code by accessing the object's source attribute or set `torch.nn.Module.dump_patches = True` and use the patch tool to revert the changes.\n",
      "  warnings.warn(msg, SourceChangeWarning)\n",
      "/home/rlawlsgurjh/hdd/miniconda3/envs/iupac-gen/lib/python3.12/site-packages/torch/serialization.py:1639: SourceChangeWarning: source code of class 'transformer.Transformer' has changed. you can retrieve the original source code by accessing the object's source attribute or set `torch.nn.Module.dump_patches = True` and use the patch tool to revert the changes.\n",
      "  warnings.warn(msg, SourceChangeWarning)\n",
      "/home/rlawlsgurjh/hdd/miniconda3/envs/iupac-gen/lib/python3.12/site-packages/torch/serialization.py:1639: SourceChangeWarning: source code of class 'torch.nn.modules.container.ModuleList' has changed. you can retrieve the original source code by accessing the object's source attribute or set `torch.nn.Module.dump_patches = True` and use the patch tool to revert the changes.\n",
      "  warnings.warn(msg, SourceChangeWarning)\n",
      "/home/rlawlsgurjh/hdd/miniconda3/envs/iupac-gen/lib/python3.12/site-packages/torch/serialization.py:1639: SourceChangeWarning: source code of class 'transformer.EncoderLayer' has changed. you can retrieve the original source code by accessing the object's source attribute or set `torch.nn.Module.dump_patches = True` and use the patch tool to revert the changes.\n",
      "  warnings.warn(msg, SourceChangeWarning)\n",
      "/home/rlawlsgurjh/hdd/miniconda3/envs/iupac-gen/lib/python3.12/site-packages/torch/serialization.py:1639: SourceChangeWarning: source code of class 'transformer.MultiHeadAttention' has changed. you can retrieve the original source code by accessing the object's source attribute or set `torch.nn.Module.dump_patches = True` and use the patch tool to revert the changes.\n",
      "  warnings.warn(msg, SourceChangeWarning)\n",
      "/home/rlawlsgurjh/hdd/miniconda3/envs/iupac-gen/lib/python3.12/site-packages/torch/serialization.py:1639: SourceChangeWarning: source code of class 'torch.nn.modules.linear.Linear' has changed. you can retrieve the original source code by accessing the object's source attribute or set `torch.nn.Module.dump_patches = True` and use the patch tool to revert the changes.\n",
      "  warnings.warn(msg, SourceChangeWarning)\n",
      "/home/rlawlsgurjh/hdd/miniconda3/envs/iupac-gen/lib/python3.12/site-packages/torch/serialization.py:1639: SourceChangeWarning: source code of class 'torch.nn.modules.dropout.Dropout' has changed. you can retrieve the original source code by accessing the object's source attribute or set `torch.nn.Module.dump_patches = True` and use the patch tool to revert the changes.\n",
      "  warnings.warn(msg, SourceChangeWarning)\n",
      "/home/rlawlsgurjh/hdd/miniconda3/envs/iupac-gen/lib/python3.12/site-packages/torch/serialization.py:1639: SourceChangeWarning: source code of class 'transformer.MLP' has changed. you can retrieve the original source code by accessing the object's source attribute or set `torch.nn.Module.dump_patches = True` and use the patch tool to revert the changes.\n",
      "  warnings.warn(msg, SourceChangeWarning)\n",
      "/home/rlawlsgurjh/hdd/miniconda3/envs/iupac-gen/lib/python3.12/site-packages/torch/serialization.py:1639: SourceChangeWarning: source code of class 'transformer.Decoder' has changed. you can retrieve the original source code by accessing the object's source attribute or set `torch.nn.Module.dump_patches = True` and use the patch tool to revert the changes.\n",
      "  warnings.warn(msg, SourceChangeWarning)\n",
      "/home/rlawlsgurjh/hdd/miniconda3/envs/iupac-gen/lib/python3.12/site-packages/torch/serialization.py:1639: SourceChangeWarning: source code of class 'transformer.DecoderLayer' has changed. you can retrieve the original source code by accessing the object's source attribute or set `torch.nn.Module.dump_patches = True` and use the patch tool to revert the changes.\n",
      "  warnings.warn(msg, SourceChangeWarning)\n",
      "/home/rlawlsgurjh/hdd/miniconda3/envs/iupac-gen/lib/python3.12/site-packages/torch/serialization.py:1639: SourceChangeWarning: source code of class 'torch.nn.modules.sparse.Embedding' has changed. you can retrieve the original source code by accessing the object's source attribute or set `torch.nn.Module.dump_patches = True` and use the patch tool to revert the changes.\n",
      "  warnings.warn(msg, SourceChangeWarning)\n",
      "/home/rlawlsgurjh/hdd/miniconda3/envs/iupac-gen/lib/python3.12/site-packages/torch/serialization.py:1639: SourceChangeWarning: source code of class 'transformer.PositionalEncoding' has changed. you can retrieve the original source code by accessing the object's source attribute or set `torch.nn.Module.dump_patches = True` and use the patch tool to revert the changes.\n",
      "  warnings.warn(msg, SourceChangeWarning)\n"
     ]
    }
   ],
   "source": [
    "M = torch.load(\n",
    "    os.path.join('models', 'iupac2smiles_model.pt'),\n",
    "    map_location = device,\n",
    "    weights_only=False\n",
    ")\n",
    "\n",
    "M.device = device"
   ]
  },
  {
   "cell_type": "code",
   "execution_count": 6,
   "id": "13a68fc8",
   "metadata": {},
   "outputs": [
    {
     "name": "stdout",
     "output_type": "stream",
     "text": [
      "['CCc1ccc(-c2nc(C3(CN)CC3)[nH]c2C)cc1']\n",
      "[0.9956514476464261]\n"
     ]
    }
   ],
   "source": [
    "iupac = '[1-[4-(4-ethylphenyl)-5-methyl-1H-imidazol-2-yl]cyclopropyl]methanamine'\n",
    "\n",
    "smiles_pred, prob = M.predict_single(iupac, beam=1)\n",
    "\n",
    "print(smiles_pred)\n",
    "print(prob)"
   ]
  },
  {
   "cell_type": "code",
   "execution_count": null,
   "id": "f7e1b3e2",
   "metadata": {},
   "outputs": [],
   "source": []
  },
  {
   "cell_type": "code",
   "execution_count": null,
   "id": "18700634",
   "metadata": {},
   "outputs": [],
   "source": []
  }
 ],
 "metadata": {
  "kernelspec": {
   "display_name": "Python 3 (ipykernel)",
   "language": "python",
   "name": "python3"
  },
  "language_info": {
   "codemirror_mode": {
    "name": "ipython",
    "version": 3
   },
   "file_extension": ".py",
   "mimetype": "text/x-python",
   "name": "python",
   "nbconvert_exporter": "python",
   "pygments_lexer": "ipython3",
   "version": "3.12.11"
  }
 },
 "nbformat": 4,
 "nbformat_minor": 5
}
